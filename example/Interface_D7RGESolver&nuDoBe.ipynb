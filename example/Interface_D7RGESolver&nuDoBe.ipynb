{
 "cells": [
  {
   "cell_type": "markdown",
   "id": "8a69dc74",
   "metadata": {},
   "source": [
    "## Import stuff of D7RGESolver and $\\nu\\text{DoBe}$ "
   ]
  },
  {
   "cell_type": "code",
   "execution_count": 1,
   "id": "98f8f75f",
   "metadata": {},
   "outputs": [],
   "source": [
    "import numpy as np\n",
    "import sys\n",
    "import os\n",
    "sys.path.append(\"..\")  \n",
    "####################### Import stuff of nuDoBe ##################################\n",
    "nudobe_path = os.path.join(\"..\", \"external_tools\", \"nudobe\", \"src\")\n",
    "sys.path.append(nudobe_path)\n",
    "sys.path.append(os.path.join(\"..\", \"external_tools\", \"nudobe\"))  \n",
    "import nudobe\n",
    "from EFT import SMEFT, LEFT\n",
    "from constants import *\n",
    "#################################################################################\n",
    "\n",
    "####################### Import stuff of D7RGESolver #############################\n",
    "from RGE_dim7 import solve_rge\n",
    "from ovbb import extract_0vbb_LEFT, find_0vbb_limit\n",
    "#################################################################################"
   ]
  },
  {
   "cell_type": "markdown",
   "id": "4f5ce09a",
   "metadata": {},
   "source": [
    "#### Calculate the SMEFT RG running using D7RGESolver and calculate the half-life of $0\\nu\\beta\\beta$ decay using $\\nu\\text{DoBe}$ "
   ]
  },
  {
   "cell_type": "code",
   "execution_count": 2,
   "id": "142b8172",
   "metadata": {},
   "outputs": [
    {
     "data": {
      "text/plain": [
       "2.2973999099592068e+26"
      ]
     },
     "execution_count": 2,
     "metadata": {},
     "output_type": "execute_result"
    }
   ],
   "source": [
    "C_in = {\"dLQLH1_1111\": 6.22e-17+0j}      # Input the WCs at NP scale \n",
    "scale_in = 1e4                   # Input energy scale in unit of GeV\n",
    "scale_out = 80                   # Output energy scale in unit of GeV\n",
    "C_out = solve_rge(scale_in, scale_out, C_in, basis=\"up\",method=\"integrate\")   # choose the up-quark flavor basis\n",
    "LEFT_WCs=extract_0vbb_LEFT(C_out,basis=\"up\")   # Match the SMEFT to LEFT at EW scale\n",
    "model = LEFT(LEFT_WCs, method = \"IBM2\", unknown_LECs = False, PSF_scheme =\"A\")  # Input the LEFT operators into nudobe at EW scale=80 GeV\n",
    "model.t_half(\"136Xe\")                          # Calculate the half-life via nudobe"
   ]
  },
  {
   "cell_type": "code",
   "execution_count": 3,
   "id": "fa7a55db",
   "metadata": {},
   "outputs": [
    {
     "data": {
      "text/plain": [
       "2.2967762685227662e+26"
      ]
     },
     "execution_count": 3,
     "metadata": {},
     "output_type": "execute_result"
    }
   ],
   "source": [
    "C_in = {\"dLQLH1_1121\": 2.77e-16+0j}       \n",
    "scale_in = 1e4                  \n",
    "scale_out = 80                  \n",
    "C_out = solve_rge(scale_in, scale_out, C_in, basis=\"down\",method=\"integrate\")   # choose the down-quark flavor basis\n",
    "LEFT_WCs=extract_0vbb_LEFT(C_out,basis=\"down\") \n",
    "model = LEFT(LEFT_WCs, method = \"IBM2\", unknown_LECs = False, PSF_scheme =\"A\")\n",
    "model.t_half(\"136Xe\")            "
   ]
  },
  {
   "cell_type": "markdown",
   "id": "2bcfd366",
   "metadata": {},
   "source": [
    "## Generate the limit on single SMEFT operator at NP scale from $0\\nu\\beta\\beta$ decay"
   ]
  },
  {
   "cell_type": "code",
   "execution_count": 4,
   "id": "64214601",
   "metadata": {},
   "outputs": [
    {
     "name": "stdout",
     "output_type": "stream",
     "text": [
      "Limit on WC LH5_11 at 1.000e+04 GeV is 5.606e-16 GeV^4-d, Corresponding half-life = 2.300e+26 yr\n",
      "Limit on WC LH_11 at 1.000e+04 GeV is 1.922e-20 GeV^4-d, Corresponding half-life = 2.301e+26 yr\n",
      "\n",
      "=== Summary Table ===\n",
      "+--------+------------------+-------------------------------------+\n",
      "|        |   Scale_in (GeV) |   Limit on WCs ($\\text{GeV}^{4-d}$) |\n",
      "+========+==================+=====================================+\n",
      "| LH5_11 |            10000 |                           5.606e-16 |\n",
      "+--------+------------------+-------------------------------------+\n",
      "| LH_11  |            10000 |                           1.922e-20 |\n",
      "+--------+------------------+-------------------------------------+\n"
     ]
    }
   ],
   "source": [
    "\n",
    "SMEFT_operators_0vbb = [\"LH5_11\", \"LH_11\"]\n",
    "result=find_0vbb_limit( \n",
    "    operators=SMEFT_operators_0vbb,      # The operators to scan\n",
    "    scale=1e4,                           # The NP scale of the operators\n",
    "    basis=\"down\",                        # The quark-flavor basis\n",
    "    target_half_life=2.3e26,             # The limit of the half-life\n",
    "    isotope=\"136Xe\",                     # The isotope of 0vbb experiment\n",
    "    method=\"IBM2\",                       # choice of NME in nudobe\n",
    "    unknown_LECs=False,                  # choice of LECs in nudobe\n",
    "    PSF_scheme=\"A\"                       # choice of PSF in nudobe\n",
    ")"
   ]
  }
 ],
 "metadata": {
  "kernelspec": {
   "display_name": "base",
   "language": "python",
   "name": "python3"
  },
  "language_info": {
   "codemirror_mode": {
    "name": "ipython",
    "version": 3
   },
   "file_extension": ".py",
   "mimetype": "text/x-python",
   "name": "python",
   "nbconvert_exporter": "python",
   "pygments_lexer": "ipython3",
   "version": "3.11.5"
  }
 },
 "nbformat": 4,
 "nbformat_minor": 5
}
