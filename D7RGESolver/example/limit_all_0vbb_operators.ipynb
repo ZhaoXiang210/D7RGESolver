{
 "cells": [
  {
   "cell_type": "markdown",
   "id": "8a69dc74",
   "metadata": {},
   "source": [
    "## Import stuff of D7RGESolver and $\\nu \\text{DoBe}$"
   ]
  },
  {
   "cell_type": "code",
   "execution_count": 1,
   "id": "eaa897c4",
   "metadata": {},
   "outputs": [],
   "source": [
    "import sys\n",
    "import os\n",
    "sys.path.append(os.path.abspath('..'))  \n",
    "nudobe_base = os.path.join('..', 'external_tools', 'nudobe')\n",
    "sys.path.append(os.path.abspath(os.path.join(nudobe_base, 'src')))\n",
    "sys.path.append(os.path.abspath(nudobe_base))\n",
    "from ovbb import find_0vbb_limit\n",
    "import numpy as np"
   ]
  },
  {
   "cell_type": "markdown",
   "id": "39bfcff9",
   "metadata": {},
   "source": [
    "## Class of dLueH"
   ]
  },
  {
   "cell_type": "markdown",
   "id": "7b81fa07",
   "metadata": {},
   "source": [
    "#### up basis"
   ]
  },
  {
   "cell_type": "code",
   "execution_count": 2,
   "id": "cce48fa2",
   "metadata": {},
   "outputs": [
    {
     "name": "stdout",
     "output_type": "stream",
     "text": [
      "Limit on WC dLueH_1111 at 1.000e+04 GeV is 2.179e-14 GeV^4-d, Corresponding half-life = 2.300e+26 yr\n",
      "Limit on WC dLueH_1121 at 1.000e+04 GeV is 9.266e-08 GeV^4-d, Corresponding half-life = 2.301e+26 yr\n",
      "Limit on WC dLueH_1131 at 1.000e+04 GeV is 8.917e-09 GeV^4-d, Corresponding half-life = 2.300e+26 yr\n",
      "Limit on WC dLueH_2111 at 1.000e+04 GeV is 2.270e-06 GeV^4-d, Corresponding half-life = 2.298e+26 yr\n",
      "Limit on WC dLueH_2121 at 1.000e+04 GeV is 1.046e-09 GeV^4-d, Corresponding half-life = 2.298e+26 yr\n",
      "Limit on WC dLueH_2131 at 1.000e+04 GeV is 9.584e-11 GeV^4-d, Corresponding half-life = 2.299e+26 yr\n",
      "Limit on WC dLueH_3111 at 1.000e+04 GeV is 2.720e-06 GeV^4-d, Corresponding half-life = 2.298e+26 yr\n",
      "Limit on WC dLueH_3121 at 1.000e+04 GeV is 4.665e-10 GeV^4-d, Corresponding half-life = 2.297e+26 yr\n",
      "Limit on WC dLueH_3131 at 1.000e+04 GeV is 7.671e-14 GeV^4-d, Corresponding half-life = 2.301e+26 yr\n",
      "\n",
      "=== Summary Table ===\n",
      "+------------+------------------+-------------------------------------+\n",
      "|            |   Scale_in (GeV) |   Limit on WCs ($\\text{GeV}^{4-d}$) |\n",
      "+============+==================+=====================================+\n",
      "| dLueH_1111 |            10000 |                           2.179e-14 |\n",
      "+------------+------------------+-------------------------------------+\n",
      "| dLueH_1121 |            10000 |                           9.266e-08 |\n",
      "+------------+------------------+-------------------------------------+\n",
      "| dLueH_1131 |            10000 |                           8.917e-09 |\n",
      "+------------+------------------+-------------------------------------+\n",
      "| dLueH_2111 |            10000 |                           2.27e-06  |\n",
      "+------------+------------------+-------------------------------------+\n",
      "| dLueH_2121 |            10000 |                           1.046e-09 |\n",
      "+------------+------------------+-------------------------------------+\n",
      "| dLueH_2131 |            10000 |                           9.584e-11 |\n",
      "+------------+------------------+-------------------------------------+\n",
      "| dLueH_3111 |            10000 |                           2.72e-06  |\n",
      "+------------+------------------+-------------------------------------+\n",
      "| dLueH_3121 |            10000 |                           4.665e-10 |\n",
      "+------------+------------------+-------------------------------------+\n",
      "| dLueH_3131 |            10000 |                           7.671e-14 |\n",
      "+------------+------------------+-------------------------------------+\n"
     ]
    }
   ],
   "source": [
    "SMEFT_operators_0vbb_dLueH = [\"dLueH_1111\", \"dLueH_1121\",\"dLueH_1131\",\"dLueH_2111\", \"dLueH_2121\",\"dLueH_2131\",\"dLueH_3111\", \"dLueH_3121\",\"dLueH_3131\"]\n",
    "results=find_0vbb_limit( \n",
    "    SMEFT_operators_0vbb_dLueH,\n",
    "    scale=1e4, \n",
    "    basis=\"down\",\n",
    "    target_half_life=2.3e26,\n",
    "    isotope=\"136Xe\")"
   ]
  },
  {
   "cell_type": "markdown",
   "id": "f940801e",
   "metadata": {},
   "source": [
    "#### down basis"
   ]
  },
  {
   "cell_type": "code",
   "execution_count": 3,
   "id": "9f1f5c60",
   "metadata": {},
   "outputs": [
    {
     "name": "stdout",
     "output_type": "stream",
     "text": [
      "Limit on WC dLueH_1111 at 1.000e+04 GeV is 2.179e-14 GeV^4-d, Corresponding half-life = 2.300e+26 yr\n",
      "Limit on WC dLueH_1121 at 1.000e+04 GeV is 9.266e-08 GeV^4-d, Corresponding half-life = 2.301e+26 yr\n",
      "Limit on WC dLueH_1131 at 1.000e+04 GeV is 8.917e-09 GeV^4-d, Corresponding half-life = 2.300e+26 yr\n",
      "Limit on WC dLueH_2111 at 1.000e+04 GeV is 2.270e-06 GeV^4-d, Corresponding half-life = 2.298e+26 yr\n",
      "Limit on WC dLueH_2121 at 1.000e+04 GeV is 1.046e-09 GeV^4-d, Corresponding half-life = 2.298e+26 yr\n",
      "Limit on WC dLueH_2131 at 1.000e+04 GeV is 9.584e-11 GeV^4-d, Corresponding half-life = 2.299e+26 yr\n",
      "Limit on WC dLueH_3111 at 1.000e+04 GeV is 2.720e-06 GeV^4-d, Corresponding half-life = 2.298e+26 yr\n",
      "Limit on WC dLueH_3121 at 1.000e+04 GeV is 4.665e-10 GeV^4-d, Corresponding half-life = 2.297e+26 yr\n",
      "Limit on WC dLueH_3131 at 1.000e+04 GeV is 7.671e-14 GeV^4-d, Corresponding half-life = 2.301e+26 yr\n",
      "\n",
      "=== Summary Table ===\n",
      "+------------+------------------+-------------------------------------+\n",
      "|            |   Scale_in (GeV) |   Limit on WCs ($\\text{GeV}^{4-d}$) |\n",
      "+============+==================+=====================================+\n",
      "| dLueH_1111 |            10000 |                           2.179e-14 |\n",
      "+------------+------------------+-------------------------------------+\n",
      "| dLueH_1121 |            10000 |                           9.266e-08 |\n",
      "+------------+------------------+-------------------------------------+\n",
      "| dLueH_1131 |            10000 |                           8.917e-09 |\n",
      "+------------+------------------+-------------------------------------+\n",
      "| dLueH_2111 |            10000 |                           2.27e-06  |\n",
      "+------------+------------------+-------------------------------------+\n",
      "| dLueH_2121 |            10000 |                           1.046e-09 |\n",
      "+------------+------------------+-------------------------------------+\n",
      "| dLueH_2131 |            10000 |                           9.584e-11 |\n",
      "+------------+------------------+-------------------------------------+\n",
      "| dLueH_3111 |            10000 |                           2.72e-06  |\n",
      "+------------+------------------+-------------------------------------+\n",
      "| dLueH_3121 |            10000 |                           4.665e-10 |\n",
      "+------------+------------------+-------------------------------------+\n",
      "| dLueH_3131 |            10000 |                           7.671e-14 |\n",
      "+------------+------------------+-------------------------------------+\n"
     ]
    }
   ],
   "source": [
    "SMEFT_operators_0vbb_dLueH = [\"dLueH_1111\", \"dLueH_1121\",\"dLueH_1131\",\"dLueH_2111\", \"dLueH_2121\",\"dLueH_2131\",\"dLueH_3111\", \"dLueH_3121\",\"dLueH_3131\"]\n",
    "results=find_0vbb_limit( \n",
    "    SMEFT_operators_0vbb_dLueH,\n",
    "    scale=1e4, \n",
    "    basis=\"up\",\n",
    "    target_half_life=2.3e26,\n",
    "    isotope=\"136Xe\")"
   ]
  },
  {
   "cell_type": "markdown",
   "id": "98f53344",
   "metadata": {},
   "source": [
    "## Class of eLLLH"
   ]
  },
  {
   "cell_type": "code",
   "execution_count": 4,
   "id": "a35ac04c",
   "metadata": {},
   "outputs": [
    {
     "name": "stdout",
     "output_type": "stream",
     "text": [
      "Limit on WC eLLLHM_2112 at 1.000e+04 GeV is 1.759e-15 GeV^4-d, Corresponding half-life = 2.298e+26 yr\n",
      "Limit on WC eLLLHM_3113 at 1.000e+04 GeV is 1.045e-16 GeV^4-d, Corresponding half-life = 2.301e+26 yr\n",
      "Limit on WC eLLLHS_1111 at 1.000e+04 GeV is 2.587e-13 GeV^4-d, Corresponding half-life = 2.300e+26 yr\n",
      "Limit on WC eLLLHS_2112 at 1.000e+04 GeV is 1.251e-15 GeV^4-d, Corresponding half-life = 2.299e+26 yr\n",
      "Limit on WC eLLLHS_3113 at 1.000e+04 GeV is 7.435e-17 GeV^4-d, Corresponding half-life = 2.299e+26 yr\n",
      "\n",
      "=== Summary Table ===\n",
      "+-------------+------------------+-------------------------------------+\n",
      "|             |   Scale_in (GeV) |   Limit on WCs ($\\text{GeV}^{4-d}$) |\n",
      "+=============+==================+=====================================+\n",
      "| eLLLHM_2112 |            10000 |                           1.759e-15 |\n",
      "+-------------+------------------+-------------------------------------+\n",
      "| eLLLHM_3113 |            10000 |                           1.045e-16 |\n",
      "+-------------+------------------+-------------------------------------+\n",
      "| eLLLHS_1111 |            10000 |                           2.587e-13 |\n",
      "+-------------+------------------+-------------------------------------+\n",
      "| eLLLHS_2112 |            10000 |                           1.251e-15 |\n",
      "+-------------+------------------+-------------------------------------+\n",
      "| eLLLHS_3113 |            10000 |                           7.435e-17 |\n",
      "+-------------+------------------+-------------------------------------+\n"
     ]
    }
   ],
   "source": [
    "SMEFT_operators_0vbb_eLLLH = [\"eLLLHM_2112\", \"eLLLHM_3113\",\"eLLLHS_1111\",\"eLLLHS_2112\", \"eLLLHS_3113\"]\n",
    "## The  other flavor indices don't induve the 0vbb\n",
    "results=find_0vbb_limit( \n",
    "    SMEFT_operators_0vbb_eLLLH,\n",
    "    scale=1e4, \n",
    "    basis=\"down\",\n",
    "    target_half_life=2.3e26,\n",
    "    isotope=\"136Xe\")"
   ]
  },
  {
   "cell_type": "code",
   "execution_count": 5,
   "id": "e6017a36",
   "metadata": {},
   "outputs": [
    {
     "name": "stdout",
     "output_type": "stream",
     "text": [
      "Limit on WC eLLLHM_2112 at 1.000e+04 GeV is 1.759e-15 GeV^4-d, Corresponding half-life = 2.298e+26 yr\n",
      "Limit on WC eLLLHM_3113 at 1.000e+04 GeV is 1.045e-16 GeV^4-d, Corresponding half-life = 2.301e+26 yr\n",
      "Limit on WC eLLLHS_1111 at 1.000e+04 GeV is 2.587e-13 GeV^4-d, Corresponding half-life = 2.300e+26 yr\n",
      "Limit on WC eLLLHS_2112 at 1.000e+04 GeV is 1.251e-15 GeV^4-d, Corresponding half-life = 2.299e+26 yr\n",
      "Limit on WC eLLLHS_3113 at 1.000e+04 GeV is 7.435e-17 GeV^4-d, Corresponding half-life = 2.299e+26 yr\n",
      "\n",
      "=== Summary Table ===\n",
      "+-------------+------------------+-------------------------------------+\n",
      "|             |   Scale_in (GeV) |   Limit on WCs ($\\text{GeV}^{4-d}$) |\n",
      "+=============+==================+=====================================+\n",
      "| eLLLHM_2112 |            10000 |                           1.759e-15 |\n",
      "+-------------+------------------+-------------------------------------+\n",
      "| eLLLHM_3113 |            10000 |                           1.045e-16 |\n",
      "+-------------+------------------+-------------------------------------+\n",
      "| eLLLHS_1111 |            10000 |                           2.587e-13 |\n",
      "+-------------+------------------+-------------------------------------+\n",
      "| eLLLHS_2112 |            10000 |                           1.251e-15 |\n",
      "+-------------+------------------+-------------------------------------+\n",
      "| eLLLHS_3113 |            10000 |                           7.435e-17 |\n",
      "+-------------+------------------+-------------------------------------+\n"
     ]
    }
   ],
   "source": [
    "SMEFT_operators_0vbb_eLLLH = [\"eLLLHM_2112\", \"eLLLHM_3113\",\"eLLLHS_1111\",\"eLLLHS_2112\", \"eLLLHS_3113\"]\n",
    "results=find_0vbb_limit( \n",
    "    SMEFT_operators_0vbb_eLLLH,\n",
    "    scale=1e4, \n",
    "    basis=\"up\",\n",
    "    target_half_life=2.3e26,\n",
    "    isotope=\"136Xe\")"
   ]
  },
  {
   "cell_type": "markdown",
   "id": "3ffb48a2",
   "metadata": {},
   "source": [
    "## Class of dLQLH1"
   ]
  },
  {
   "cell_type": "code",
   "execution_count": 6,
   "id": "ef54ffb2",
   "metadata": {},
   "outputs": [
    {
     "name": "stdout",
     "output_type": "stream",
     "text": [
      "Limit on WC dLQLH1_1111 at 1.000e+04 GeV is 6.383e-17 GeV^4-d, Corresponding half-life = 2.298e+26 yr\n",
      "Limit on WC dLQLH1_1121 at 1.000e+04 GeV is 2.769e-16 GeV^4-d, Corresponding half-life = 2.298e+26 yr\n",
      "Limit on WC dLQLH1_1131 at 1.000e+04 GeV is 1.716e-14 GeV^4-d, Corresponding half-life = 2.298e+26 yr\n",
      "Limit on WC dLQLH1_2111 at 1.000e+04 GeV is 4.503e-11 GeV^4-d, Corresponding half-life = 2.301e+26 yr\n",
      "Limit on WC dLQLH1_2121 at 1.000e+04 GeV is 2.385e-15 GeV^4-d, Corresponding half-life = 2.299e+26 yr\n",
      "Limit on WC dLQLH1_2131 at 1.000e+04 GeV is 4.091e-13 GeV^4-d, Corresponding half-life = 2.302e+26 yr\n",
      "Limit on WC dLQLH1_3111 at 1.000e+04 GeV is 3.608e-14 GeV^4-d, Corresponding half-life = 2.300e+26 yr\n",
      "Limit on WC dLQLH1_3121 at 1.000e+04 GeV is 7.913e-15 GeV^4-d, Corresponding half-life = 2.299e+26 yr\n",
      "Limit on WC dLQLH1_3131 at 1.000e+04 GeV is 4.038e-17 GeV^4-d, Corresponding half-life = 2.298e+26 yr\n",
      "\n",
      "=== Summary Table ===\n",
      "+-------------+------------------+-------------------------------------+\n",
      "|             |   Scale_in (GeV) |   Limit on WCs ($\\text{GeV}^{4-d}$) |\n",
      "+=============+==================+=====================================+\n",
      "| dLQLH1_1111 |            10000 |                           6.383e-17 |\n",
      "+-------------+------------------+-------------------------------------+\n",
      "| dLQLH1_1121 |            10000 |                           2.769e-16 |\n",
      "+-------------+------------------+-------------------------------------+\n",
      "| dLQLH1_1131 |            10000 |                           1.716e-14 |\n",
      "+-------------+------------------+-------------------------------------+\n",
      "| dLQLH1_2111 |            10000 |                           4.503e-11 |\n",
      "+-------------+------------------+-------------------------------------+\n",
      "| dLQLH1_2121 |            10000 |                           2.385e-15 |\n",
      "+-------------+------------------+-------------------------------------+\n",
      "| dLQLH1_2131 |            10000 |                           4.091e-13 |\n",
      "+-------------+------------------+-------------------------------------+\n",
      "| dLQLH1_3111 |            10000 |                           3.608e-14 |\n",
      "+-------------+------------------+-------------------------------------+\n",
      "| dLQLH1_3121 |            10000 |                           7.913e-15 |\n",
      "+-------------+------------------+-------------------------------------+\n",
      "| dLQLH1_3131 |            10000 |                           4.038e-17 |\n",
      "+-------------+------------------+-------------------------------------+\n"
     ]
    }
   ],
   "source": [
    "SMEFT_operators_0vbb_dLQLH1 = [\"dLQLH1_1111\", \"dLQLH1_1121\",\"dLQLH1_1131\",\"dLQLH1_2111\", \"dLQLH1_2121\",\"dLQLH1_2131\",\"dLQLH1_3111\", \"dLQLH1_3121\",\"dLQLH1_3131\"]\n",
    "results=find_0vbb_limit( \n",
    "    SMEFT_operators_0vbb_dLQLH1,\n",
    "    scale=1e4, \n",
    "    basis=\"down\",\n",
    "    target_half_life=2.3e26,\n",
    "    isotope=\"136Xe\")"
   ]
  },
  {
   "cell_type": "code",
   "execution_count": 7,
   "id": "a2c4eac9",
   "metadata": {},
   "outputs": [
    {
     "name": "stdout",
     "output_type": "stream",
     "text": [
      "Limit on WC dLQLH1_1111 at 1.000e+04 GeV is 6.215e-17 GeV^4-d, Corresponding half-life = 2.301e+26 yr\n",
      "Limit on WC dLQLH1_1121 at 1.000e+04 GeV is 2.171e-13 GeV^4-d, Corresponding half-life = 2.301e+26 yr\n",
      "Limit on WC dLQLH1_1131 at 1.000e+04 GeV is 4.687e-12 GeV^4-d, Corresponding half-life = 2.299e+26 yr\n",
      "Limit on WC dLQLH1_2111 at 1.000e+04 GeV is 1.063e-14 GeV^4-d, Corresponding half-life = 2.300e+26 yr\n",
      "Limit on WC dLQLH1_2121 at 1.000e+04 GeV is 2.450e-15 GeV^4-d, Corresponding half-life = 2.298e+26 yr\n",
      "Limit on WC dLQLH1_2131 at 1.000e+04 GeV is 5.053e-14 GeV^4-d, Corresponding half-life = 2.298e+26 yr\n",
      "Limit on WC dLQLH1_3111 at 1.000e+04 GeV is 1.272e-14 GeV^4-d, Corresponding half-life = 2.299e+26 yr\n",
      "Limit on WC dLQLH1_3121 at 1.000e+04 GeV is 1.090e-15 GeV^4-d, Corresponding half-life = 2.301e+26 yr\n",
      "Limit on WC dLQLH1_3131 at 1.000e+04 GeV is 4.038e-17 GeV^4-d, Corresponding half-life = 2.301e+26 yr\n",
      "\n",
      "=== Summary Table ===\n",
      "+-------------+------------------+-------------------------------------+\n",
      "|             |   Scale_in (GeV) |   Limit on WCs ($\\text{GeV}^{4-d}$) |\n",
      "+=============+==================+=====================================+\n",
      "| dLQLH1_1111 |            10000 |                           6.215e-17 |\n",
      "+-------------+------------------+-------------------------------------+\n",
      "| dLQLH1_1121 |            10000 |                           2.171e-13 |\n",
      "+-------------+------------------+-------------------------------------+\n",
      "| dLQLH1_1131 |            10000 |                           4.687e-12 |\n",
      "+-------------+------------------+-------------------------------------+\n",
      "| dLQLH1_2111 |            10000 |                           1.063e-14 |\n",
      "+-------------+------------------+-------------------------------------+\n",
      "| dLQLH1_2121 |            10000 |                           2.45e-15  |\n",
      "+-------------+------------------+-------------------------------------+\n",
      "| dLQLH1_2131 |            10000 |                           5.053e-14 |\n",
      "+-------------+------------------+-------------------------------------+\n",
      "| dLQLH1_3111 |            10000 |                           1.272e-14 |\n",
      "+-------------+------------------+-------------------------------------+\n",
      "| dLQLH1_3121 |            10000 |                           1.09e-15  |\n",
      "+-------------+------------------+-------------------------------------+\n",
      "| dLQLH1_3131 |            10000 |                           4.038e-17 |\n",
      "+-------------+------------------+-------------------------------------+\n"
     ]
    }
   ],
   "source": [
    "SMEFT_operators_0vbb_dLQLH1 = [\"dLQLH1_1111\", \"dLQLH1_1121\",\"dLQLH1_1131\",\"dLQLH1_2111\", \"dLQLH1_2121\",\"dLQLH1_2131\",\"dLQLH1_3111\", \"dLQLH1_3121\",\"dLQLH1_3131\"]\n",
    "results=find_0vbb_limit( \n",
    "    SMEFT_operators_0vbb_dLQLH1,\n",
    "    scale=1e4, \n",
    "    basis=\"up\",\n",
    "    target_half_life=2.3e26,\n",
    "    isotope=\"136Xe\")"
   ]
  },
  {
   "cell_type": "markdown",
   "id": "f6ecaf34",
   "metadata": {},
   "source": [
    "## Class of dLQLH2"
   ]
  },
  {
   "cell_type": "code",
   "execution_count": 8,
   "id": "d9343eaf",
   "metadata": {},
   "outputs": [
    {
     "name": "stdout",
     "output_type": "stream",
     "text": [
      "Limit on WC dLQLH2_1111 at 1.000e+04 GeV is 2.676e-16 GeV^4-d, Corresponding half-life = 2.301e+26 yr\n",
      "Limit on WC dLQLH2_1121 at 1.000e+04 GeV is 1.163e-15 GeV^4-d, Corresponding half-life = 2.300e+26 yr\n",
      "Limit on WC dLQLH2_1131 at 1.000e+04 GeV is 7.203e-14 GeV^4-d, Corresponding half-life = 2.301e+26 yr\n",
      "Limit on WC dLQLH2_2111 at 1.000e+04 GeV is 2.942e-09 GeV^4-d, Corresponding half-life = 2.300e+26 yr\n",
      "Limit on WC dLQLH2_2121 at 1.000e+04 GeV is 3.926e-14 GeV^4-d, Corresponding half-life = 2.298e+26 yr\n",
      "Limit on WC dLQLH2_2131 at 1.000e+04 GeV is 2.659e-11 GeV^4-d, Corresponding half-life = 2.301e+26 yr\n",
      "Limit on WC dLQLH2_3111 at 1.000e+04 GeV is 2.347e-12 GeV^4-d, Corresponding half-life = 2.299e+26 yr\n",
      "Limit on WC dLQLH2_3121 at 1.000e+04 GeV is 5.144e-13 GeV^4-d, Corresponding half-life = 2.300e+26 yr\n",
      "Limit on WC dLQLH2_3131 at 1.000e+04 GeV is 7.320e-16 GeV^4-d, Corresponding half-life = 2.300e+26 yr\n",
      "\n",
      "=== Summary Table ===\n",
      "+-------------+------------------+-------------------------------------+\n",
      "|             |   Scale_in (GeV) |   Limit on WCs ($\\text{GeV}^{4-d}$) |\n",
      "+=============+==================+=====================================+\n",
      "| dLQLH2_1111 |            10000 |                           2.676e-16 |\n",
      "+-------------+------------------+-------------------------------------+\n",
      "| dLQLH2_1121 |            10000 |                           1.163e-15 |\n",
      "+-------------+------------------+-------------------------------------+\n",
      "| dLQLH2_1131 |            10000 |                           7.203e-14 |\n",
      "+-------------+------------------+-------------------------------------+\n",
      "| dLQLH2_2111 |            10000 |                           2.942e-09 |\n",
      "+-------------+------------------+-------------------------------------+\n",
      "| dLQLH2_2121 |            10000 |                           3.926e-14 |\n",
      "+-------------+------------------+-------------------------------------+\n",
      "| dLQLH2_2131 |            10000 |                           2.659e-11 |\n",
      "+-------------+------------------+-------------------------------------+\n",
      "| dLQLH2_3111 |            10000 |                           2.347e-12 |\n",
      "+-------------+------------------+-------------------------------------+\n",
      "| dLQLH2_3121 |            10000 |                           5.144e-13 |\n",
      "+-------------+------------------+-------------------------------------+\n",
      "| dLQLH2_3131 |            10000 |                           7.32e-16  |\n",
      "+-------------+------------------+-------------------------------------+\n"
     ]
    }
   ],
   "source": [
    "SMEFT_operators_0vbb_dLQLH2 = [\"dLQLH2_1111\", \"dLQLH2_1121\",\"dLQLH2_1131\",\"dLQLH2_2111\", \"dLQLH2_2121\",\"dLQLH2_2131\",\"dLQLH2_3111\", \"dLQLH2_3121\",\"dLQLH2_3131\"]\n",
    "results=find_0vbb_limit( \n",
    "    SMEFT_operators_0vbb_dLQLH2,\n",
    "    scale=1e4, \n",
    "    basis=\"down\",\n",
    "    target_half_life=2.3e26,\n",
    "    isotope=\"136Xe\")"
   ]
  },
  {
   "cell_type": "code",
   "execution_count": 9,
   "id": "157d2c2a",
   "metadata": {},
   "outputs": [
    {
     "name": "stdout",
     "output_type": "stream",
     "text": [
      "Limit on WC dLQLH2_1111 at 1.000e+04 GeV is 2.609e-16 GeV^4-d, Corresponding half-life = 2.298e+26 yr\n",
      "Limit on WC dLQLH2_1121 at 1.000e+04 GeV is 3.574e-12 GeV^4-d, Corresponding half-life = 2.299e+26 yr\n",
      "Limit on WC dLQLH2_1131 at 1.000e+04 GeV is 8.561e-11 GeV^4-d, Corresponding half-life = 2.298e+26 yr\n",
      "Limit on WC dLQLH2_2111 at 1.000e+04 GeV is 1.751e-13 GeV^4-d, Corresponding half-life = 2.298e+26 yr\n",
      "Limit on WC dLQLH2_2121 at 1.000e+04 GeV is 4.030e-14 GeV^4-d, Corresponding half-life = 2.301e+26 yr\n",
      "Limit on WC dLQLH2_2131 at 1.000e+04 GeV is 9.156e-13 GeV^4-d, Corresponding half-life = 2.300e+26 yr\n",
      "Limit on WC dLQLH2_3111 at 1.000e+04 GeV is 2.094e-13 GeV^4-d, Corresponding half-life = 2.301e+26 yr\n",
      "Limit on WC dLQLH2_3121 at 1.000e+04 GeV is 1.795e-14 GeV^4-d, Corresponding half-life = 2.301e+26 yr\n",
      "Limit on WC dLQLH2_3131 at 1.000e+04 GeV is 7.327e-16 GeV^4-d, Corresponding half-life = 2.299e+26 yr\n",
      "\n",
      "=== Summary Table ===\n",
      "+-------------+------------------+-------------------------------------+\n",
      "|             |   Scale_in (GeV) |   Limit on WCs ($\\text{GeV}^{4-d}$) |\n",
      "+=============+==================+=====================================+\n",
      "| dLQLH2_1111 |            10000 |                           2.609e-16 |\n",
      "+-------------+------------------+-------------------------------------+\n",
      "| dLQLH2_1121 |            10000 |                           3.574e-12 |\n",
      "+-------------+------------------+-------------------------------------+\n",
      "| dLQLH2_1131 |            10000 |                           8.561e-11 |\n",
      "+-------------+------------------+-------------------------------------+\n",
      "| dLQLH2_2111 |            10000 |                           1.751e-13 |\n",
      "+-------------+------------------+-------------------------------------+\n",
      "| dLQLH2_2121 |            10000 |                           4.03e-14  |\n",
      "+-------------+------------------+-------------------------------------+\n",
      "| dLQLH2_2131 |            10000 |                           9.156e-13 |\n",
      "+-------------+------------------+-------------------------------------+\n",
      "| dLQLH2_3111 |            10000 |                           2.094e-13 |\n",
      "+-------------+------------------+-------------------------------------+\n",
      "| dLQLH2_3121 |            10000 |                           1.795e-14 |\n",
      "+-------------+------------------+-------------------------------------+\n",
      "| dLQLH2_3131 |            10000 |                           7.327e-16 |\n",
      "+-------------+------------------+-------------------------------------+\n"
     ]
    }
   ],
   "source": [
    "SMEFT_operators_0vbb_dLQLH2 = [\"dLQLH2_1111\", \"dLQLH2_1121\",\"dLQLH2_1131\",\"dLQLH2_2111\", \"dLQLH2_2121\",\"dLQLH2_2131\",\"dLQLH2_3111\", \"dLQLH2_3121\",\"dLQLH2_3131\"]\n",
    "results=find_0vbb_limit( \n",
    "    SMEFT_operators_0vbb_dLQLH2,\n",
    "    scale=1e4, \n",
    "    basis=\"up\",\n",
    "    target_half_life=2.3e26,\n",
    "    isotope=\"136Xe\")"
   ]
  },
  {
   "cell_type": "markdown",
   "id": "75230780",
   "metadata": {},
   "source": [
    "## Class of QuLLH"
   ]
  },
  {
   "cell_type": "code",
   "execution_count": 10,
   "id": "b6881674",
   "metadata": {},
   "outputs": [
    {
     "name": "stdout",
     "output_type": "stream",
     "text": [
      "Limit on WC QuLLH_1111 at 1.000e+04 GeV is 2.775e-17 GeV^4-d, Corresponding half-life = 2.302e+26 yr\n",
      "Limit on WC QuLLH_1211 at 1.000e+04 GeV is 4.479e-16 GeV^4-d, Corresponding half-life = 2.299e+26 yr\n",
      "Limit on WC QuLLH_1311 at 1.000e+04 GeV is 6.502e-18 GeV^4-d, Corresponding half-life = 2.301e+26 yr\n",
      "Limit on WC QuLLH_2111 at 1.000e+04 GeV is 2.654e-13 GeV^4-d, Corresponding half-life = 2.298e+26 yr\n",
      "Limit on WC QuLLH_2211 at 1.000e+04 GeV is 1.031e-16 GeV^4-d, Corresponding half-life = 2.299e+26 yr\n",
      "Limit on WC QuLLH_2311 at 1.000e+04 GeV is 1.427e-18 GeV^4-d, Corresponding half-life = 2.299e+26 yr\n",
      "Limit on WC QuLLH_3111 at 1.000e+04 GeV is 5.383e-14 GeV^4-d, Corresponding half-life = 2.302e+26 yr\n",
      "Limit on WC QuLLH_3211 at 1.000e+04 GeV is 2.377e-15 GeV^4-d, Corresponding half-life = 2.301e+26 yr\n",
      "Limit on WC QuLLH_3311 at 1.000e+04 GeV is 5.908e-20 GeV^4-d, Corresponding half-life = 2.300e+26 yr\n",
      "\n",
      "=== Summary Table ===\n",
      "+------------+------------------+-------------------------------------+\n",
      "|            |   Scale_in (GeV) |   Limit on WCs ($\\text{GeV}^{4-d}$) |\n",
      "+============+==================+=====================================+\n",
      "| QuLLH_1111 |            10000 |                           2.775e-17 |\n",
      "+------------+------------------+-------------------------------------+\n",
      "| QuLLH_1211 |            10000 |                           4.479e-16 |\n",
      "+------------+------------------+-------------------------------------+\n",
      "| QuLLH_1311 |            10000 |                           6.502e-18 |\n",
      "+------------+------------------+-------------------------------------+\n",
      "| QuLLH_2111 |            10000 |                           2.654e-13 |\n",
      "+------------+------------------+-------------------------------------+\n",
      "| QuLLH_2211 |            10000 |                           1.031e-16 |\n",
      "+------------+------------------+-------------------------------------+\n",
      "| QuLLH_2311 |            10000 |                           1.427e-18 |\n",
      "+------------+------------------+-------------------------------------+\n",
      "| QuLLH_3111 |            10000 |                           5.383e-14 |\n",
      "+------------+------------------+-------------------------------------+\n",
      "| QuLLH_3211 |            10000 |                           2.377e-15 |\n",
      "+------------+------------------+-------------------------------------+\n",
      "| QuLLH_3311 |            10000 |                           5.908e-20 |\n",
      "+------------+------------------+-------------------------------------+\n"
     ]
    }
   ],
   "source": [
    "SMEFT_operators_0vbb_QuLLH = [\"QuLLH_1111\",\"QuLLH_1211\",\"QuLLH_1311\",\"QuLLH_2111\",\"QuLLH_2211\",\"QuLLH_2311\",\"QuLLH_3111\",\"QuLLH_3211\",\"QuLLH_3311\"]\n",
    "results=find_0vbb_limit( \n",
    "    SMEFT_operators_0vbb_QuLLH,\n",
    "    scale=1e4, \n",
    "    basis=\"down\",\n",
    "    target_half_life=2.3e26,\n",
    "    isotope=\"136Xe\")"
   ]
  },
  {
   "cell_type": "code",
   "execution_count": 11,
   "id": "56634c46",
   "metadata": {},
   "outputs": [
    {
     "name": "stdout",
     "output_type": "stream",
     "text": [
      "Limit on WC QuLLH_1111 at 1.000e+04 GeV is 2.847e-17 GeV^4-d, Corresponding half-life = 2.301e+26 yr\n",
      "Limit on WC QuLLH_1211 at 1.000e+04 GeV is 8.576e-07 GeV^4-d, Corresponding half-life = 2.298e+26 yr\n",
      "Limit on WC QuLLH_1311 at 1.000e+04 GeV is 3.509e-12 GeV^4-d, Corresponding half-life = 2.300e+26 yr\n",
      "Limit on WC QuLLH_2111 at 1.000e+04 GeV is 1.237e-16 GeV^4-d, Corresponding half-life = 2.302e+26 yr\n",
      "Limit on WC QuLLH_2211 at 1.000e+04 GeV is 1.004e-16 GeV^4-d, Corresponding half-life = 2.298e+26 yr\n",
      "Limit on WC QuLLH_2311 at 1.000e+04 GeV is 3.009e-13 GeV^4-d, Corresponding half-life = 2.301e+26 yr\n",
      "Limit on WC QuLLH_3111 at 1.000e+04 GeV is 3.242e-15 GeV^4-d, Corresponding half-life = 2.299e+26 yr\n",
      "Limit on WC QuLLH_3211 at 1.000e+04 GeV is 5.647e-11 GeV^4-d, Corresponding half-life = 2.301e+26 yr\n",
      "Limit on WC QuLLH_3311 at 1.000e+04 GeV is 5.902e-20 GeV^4-d, Corresponding half-life = 2.300e+26 yr\n",
      "\n",
      "=== Summary Table ===\n",
      "+------------+------------------+-------------------------------------+\n",
      "|            |   Scale_in (GeV) |   Limit on WCs ($\\text{GeV}^{4-d}$) |\n",
      "+============+==================+=====================================+\n",
      "| QuLLH_1111 |            10000 |                           2.847e-17 |\n",
      "+------------+------------------+-------------------------------------+\n",
      "| QuLLH_1211 |            10000 |                           8.576e-07 |\n",
      "+------------+------------------+-------------------------------------+\n",
      "| QuLLH_1311 |            10000 |                           3.509e-12 |\n",
      "+------------+------------------+-------------------------------------+\n",
      "| QuLLH_2111 |            10000 |                           1.237e-16 |\n",
      "+------------+------------------+-------------------------------------+\n",
      "| QuLLH_2211 |            10000 |                           1.004e-16 |\n",
      "+------------+------------------+-------------------------------------+\n",
      "| QuLLH_2311 |            10000 |                           3.009e-13 |\n",
      "+------------+------------------+-------------------------------------+\n",
      "| QuLLH_3111 |            10000 |                           3.242e-15 |\n",
      "+------------+------------------+-------------------------------------+\n",
      "| QuLLH_3211 |            10000 |                           5.647e-11 |\n",
      "+------------+------------------+-------------------------------------+\n",
      "| QuLLH_3311 |            10000 |                           5.902e-20 |\n",
      "+------------+------------------+-------------------------------------+\n"
     ]
    }
   ],
   "source": [
    "SMEFT_operators_0vbb_QuLLH = [\"QuLLH_1111\",\"QuLLH_1211\",\"QuLLH_1311\",\"QuLLH_2111\",\"QuLLH_2211\",\"QuLLH_2311\",\"QuLLH_3111\",\"QuLLH_3211\",\"QuLLH_3311\"]\n",
    "results=find_0vbb_limit( \n",
    "    SMEFT_operators_0vbb_QuLLH,\n",
    "    scale=1e4, \n",
    "    basis=\"up\",\n",
    "    target_half_life=2.3e26,\n",
    "    isotope=\"136Xe\")"
   ]
  },
  {
   "cell_type": "markdown",
   "id": "ac9026aa",
   "metadata": {},
   "source": [
    "## Class of duLDL"
   ]
  },
  {
   "cell_type": "code",
   "execution_count": 12,
   "id": "c43c26bd",
   "metadata": {},
   "outputs": [
    {
     "name": "stdout",
     "output_type": "stream",
     "text": [
      "Limit on WC duLDL_1111 at 1.000e+04 GeV is 1.918e-15 GeV^4-d, Corresponding half-life = 2.300e+26 yr\n",
      "Limit on WC duLDL_1211 at 1.000e+04 GeV is 3.579e-10 GeV^4-d, Corresponding half-life = 2.299e+26 yr\n",
      "Limit on WC duLDL_1311 at 1.000e+04 GeV is 1.542e-11 GeV^4-d, Corresponding half-life = 2.301e+26 yr\n",
      "Limit on WC duLDL_2111 at 1.000e+04 GeV is 9.207e-09 GeV^4-d, Corresponding half-life = 2.299e+26 yr\n",
      "Limit on WC duLDL_2211 at 1.000e+04 GeV is 4.035e-12 GeV^4-d, Corresponding half-life = 2.302e+26 yr\n",
      "Limit on WC duLDL_2311 at 1.000e+04 GeV is 1.659e-13 GeV^4-d, Corresponding half-life = 2.299e+26 yr\n",
      "Limit on WC duLDL_3111 at 1.000e+04 GeV is 1.339e-10 GeV^4-d, Corresponding half-life = 2.300e+26 yr\n",
      "Limit on WC duLDL_3211 at 1.000e+04 GeV is 1.799e-12 GeV^4-d, Corresponding half-life = 2.300e+26 yr\n",
      "Limit on WC duLDL_3311 at 1.000e+04 GeV is 1.328e-16 GeV^4-d, Corresponding half-life = 2.300e+26 yr\n",
      "\n",
      "=== Summary Table ===\n",
      "+------------+------------------+-------------------------------------+\n",
      "|            |   Scale_in (GeV) |   Limit on WCs ($\\text{GeV}^{4-d}$) |\n",
      "+============+==================+=====================================+\n",
      "| duLDL_1111 |            10000 |                           1.918e-15 |\n",
      "+------------+------------------+-------------------------------------+\n",
      "| duLDL_1211 |            10000 |                           3.579e-10 |\n",
      "+------------+------------------+-------------------------------------+\n",
      "| duLDL_1311 |            10000 |                           1.542e-11 |\n",
      "+------------+------------------+-------------------------------------+\n",
      "| duLDL_2111 |            10000 |                           9.207e-09 |\n",
      "+------------+------------------+-------------------------------------+\n",
      "| duLDL_2211 |            10000 |                           4.035e-12 |\n",
      "+------------+------------------+-------------------------------------+\n",
      "| duLDL_2311 |            10000 |                           1.659e-13 |\n",
      "+------------+------------------+-------------------------------------+\n",
      "| duLDL_3111 |            10000 |                           1.339e-10 |\n",
      "+------------+------------------+-------------------------------------+\n",
      "| duLDL_3211 |            10000 |                           1.799e-12 |\n",
      "+------------+------------------+-------------------------------------+\n",
      "| duLDL_3311 |            10000 |                           1.328e-16 |\n",
      "+------------+------------------+-------------------------------------+\n"
     ]
    }
   ],
   "source": [
    "SMEFT_operators_0vbb_duLDL = [\"duLDL_1111\",\"duLDL_1211\",\"duLDL_1311\",\"duLDL_2111\",\"duLDL_2211\",\"duLDL_2311\",\"duLDL_3111\",\"duLDL_3211\",\"duLDL_3311\"]\n",
    "results=find_0vbb_limit( \n",
    "    SMEFT_operators_0vbb_duLDL,\n",
    "    scale=1e4, \n",
    "    basis=\"down\",\n",
    "    target_half_life=2.3e26,\n",
    "    isotope=\"136Xe\")"
   ]
  },
  {
   "cell_type": "code",
   "execution_count": 13,
   "id": "272e5602",
   "metadata": {},
   "outputs": [
    {
     "name": "stdout",
     "output_type": "stream",
     "text": [
      "Limit on WC duLDL_1111 at 1.000e+04 GeV is 1.918e-15 GeV^4-d, Corresponding half-life = 2.300e+26 yr\n",
      "Limit on WC duLDL_1211 at 1.000e+04 GeV is 3.579e-10 GeV^4-d, Corresponding half-life = 2.299e+26 yr\n",
      "Limit on WC duLDL_1311 at 1.000e+04 GeV is 1.542e-11 GeV^4-d, Corresponding half-life = 2.301e+26 yr\n",
      "Limit on WC duLDL_2111 at 1.000e+04 GeV is 9.207e-09 GeV^4-d, Corresponding half-life = 2.299e+26 yr\n",
      "Limit on WC duLDL_2211 at 1.000e+04 GeV is 4.035e-12 GeV^4-d, Corresponding half-life = 2.302e+26 yr\n",
      "Limit on WC duLDL_2311 at 1.000e+04 GeV is 1.659e-13 GeV^4-d, Corresponding half-life = 2.299e+26 yr\n",
      "Limit on WC duLDL_3111 at 1.000e+04 GeV is 1.338e-10 GeV^4-d, Corresponding half-life = 2.302e+26 yr\n",
      "Limit on WC duLDL_3211 at 1.000e+04 GeV is 1.799e-12 GeV^4-d, Corresponding half-life = 2.301e+26 yr\n",
      "Limit on WC duLDL_3311 at 1.000e+04 GeV is 1.328e-16 GeV^4-d, Corresponding half-life = 2.300e+26 yr\n",
      "\n",
      "=== Summary Table ===\n",
      "+------------+------------------+-------------------------------------+\n",
      "|            |   Scale_in (GeV) |   Limit on WCs ($\\text{GeV}^{4-d}$) |\n",
      "+============+==================+=====================================+\n",
      "| duLDL_1111 |            10000 |                           1.918e-15 |\n",
      "+------------+------------------+-------------------------------------+\n",
      "| duLDL_1211 |            10000 |                           3.579e-10 |\n",
      "+------------+------------------+-------------------------------------+\n",
      "| duLDL_1311 |            10000 |                           1.542e-11 |\n",
      "+------------+------------------+-------------------------------------+\n",
      "| duLDL_2111 |            10000 |                           9.207e-09 |\n",
      "+------------+------------------+-------------------------------------+\n",
      "| duLDL_2211 |            10000 |                           4.035e-12 |\n",
      "+------------+------------------+-------------------------------------+\n",
      "| duLDL_2311 |            10000 |                           1.659e-13 |\n",
      "+------------+------------------+-------------------------------------+\n",
      "| duLDL_3111 |            10000 |                           1.338e-10 |\n",
      "+------------+------------------+-------------------------------------+\n",
      "| duLDL_3211 |            10000 |                           1.799e-12 |\n",
      "+------------+------------------+-------------------------------------+\n",
      "| duLDL_3311 |            10000 |                           1.328e-16 |\n",
      "+------------+------------------+-------------------------------------+\n"
     ]
    }
   ],
   "source": [
    "SMEFT_operators_0vbb_duLDL = [\"duLDL_1111\",\"duLDL_1211\",\"duLDL_1311\",\"duLDL_2111\",\"duLDL_2211\",\"duLDL_2311\",\"duLDL_3111\",\"duLDL_3211\",\"duLDL_3311\"]\n",
    "results=find_0vbb_limit( \n",
    "    SMEFT_operators_0vbb_duLDL,\n",
    "    scale=1e4, \n",
    "    basis=\"up\",\n",
    "    target_half_life=2.3e26,\n",
    "    isotope=\"136Xe\")"
   ]
  },
  {
   "cell_type": "markdown",
   "id": "d61ea665",
   "metadata": {},
   "source": [
    "## Class of other first generation operators"
   ]
  },
  {
   "cell_type": "code",
   "execution_count": 14,
   "id": "9ebc143f",
   "metadata": {},
   "outputs": [
    {
     "name": "stdout",
     "output_type": "stream",
     "text": [
      "Limit on WC DLDH1_11 at 1.000e+04 GeV is 1.067e-18 GeV^4-d, Corresponding half-life = 2.299e+26 yr\n",
      "Limit on WC DLDH2_11 at 1.000e+04 GeV is 9.992e-19 GeV^4-d, Corresponding half-life = 2.298e+26 yr\n",
      "Limit on WC LeDH_11 at 1.000e+04 GeV is 1.874e-16 GeV^4-d, Corresponding half-life = 2.300e+26 yr\n",
      "Limit on WC LHW_11 at 1.000e+04 GeV is 4.256e-19 GeV^4-d, Corresponding half-life = 2.298e+26 yr\n",
      "Limit on WC LH5_11 at 1.000e+04 GeV is 5.606e-16 GeV^4-d, Corresponding half-life = 2.300e+26 yr\n",
      "Limit on WC LH_11 at 1.000e+04 GeV is 1.922e-20 GeV^4-d, Corresponding half-life = 2.301e+26 yr\n",
      "\n",
      "=== Summary Table ===\n",
      "+----------+------------------+-------------------------------------+\n",
      "|          |   Scale_in (GeV) |   Limit on WCs ($\\text{GeV}^{4-d}$) |\n",
      "+==========+==================+=====================================+\n",
      "| DLDH1_11 |            10000 |                           1.067e-18 |\n",
      "+----------+------------------+-------------------------------------+\n",
      "| DLDH2_11 |            10000 |                           9.992e-19 |\n",
      "+----------+------------------+-------------------------------------+\n",
      "| LeDH_11  |            10000 |                           1.874e-16 |\n",
      "+----------+------------------+-------------------------------------+\n",
      "| LHW_11   |            10000 |                           4.256e-19 |\n",
      "+----------+------------------+-------------------------------------+\n",
      "| LH5_11   |            10000 |                           5.606e-16 |\n",
      "+----------+------------------+-------------------------------------+\n",
      "| LH_11    |            10000 |                           1.922e-20 |\n",
      "+----------+------------------+-------------------------------------+\n"
     ]
    }
   ],
   "source": [
    "SMEFT_operators_0vbb_others = [\"DLDH1_11\",\"DLDH2_11\",\"LeDH_11\",\"LHW_11\",\"LH5_11\",\"LH_11\"]\n",
    "results=find_0vbb_limit( \n",
    "    SMEFT_operators_0vbb_others,\n",
    "    scale=1e4, \n",
    "    basis=\"down\",\n",
    "    target_half_life=2.3e26,\n",
    "    isotope=\"136Xe\")"
   ]
  },
  {
   "cell_type": "code",
   "execution_count": 15,
   "id": "03795122",
   "metadata": {},
   "outputs": [
    {
     "name": "stdout",
     "output_type": "stream",
     "text": [
      "Limit on WC DLDH1_11 at 1.000e+04 GeV is 1.067e-18 GeV^4-d, Corresponding half-life = 2.299e+26 yr\n",
      "Limit on WC DLDH2_11 at 1.000e+04 GeV is 9.992e-19 GeV^4-d, Corresponding half-life = 2.298e+26 yr\n",
      "Limit on WC LeDH_11 at 1.000e+04 GeV is 1.874e-16 GeV^4-d, Corresponding half-life = 2.300e+26 yr\n",
      "Limit on WC LHW_11 at 1.000e+04 GeV is 4.256e-19 GeV^4-d, Corresponding half-life = 2.298e+26 yr\n",
      "Limit on WC LH5_11 at 1.000e+04 GeV is 5.606e-16 GeV^4-d, Corresponding half-life = 2.300e+26 yr\n",
      "Limit on WC LH_11 at 1.000e+04 GeV is 1.922e-20 GeV^4-d, Corresponding half-life = 2.301e+26 yr\n",
      "\n",
      "=== Summary Table ===\n",
      "+----------+------------------+-------------------------------------+\n",
      "|          |   Scale_in (GeV) |   Limit on WCs ($\\text{GeV}^{4-d}$) |\n",
      "+==========+==================+=====================================+\n",
      "| DLDH1_11 |            10000 |                           1.067e-18 |\n",
      "+----------+------------------+-------------------------------------+\n",
      "| DLDH2_11 |            10000 |                           9.992e-19 |\n",
      "+----------+------------------+-------------------------------------+\n",
      "| LeDH_11  |            10000 |                           1.874e-16 |\n",
      "+----------+------------------+-------------------------------------+\n",
      "| LHW_11   |            10000 |                           4.256e-19 |\n",
      "+----------+------------------+-------------------------------------+\n",
      "| LH5_11   |            10000 |                           5.606e-16 |\n",
      "+----------+------------------+-------------------------------------+\n",
      "| LH_11    |            10000 |                           1.922e-20 |\n",
      "+----------+------------------+-------------------------------------+\n"
     ]
    }
   ],
   "source": [
    "SMEFT_operators_0vbb_others = [\"DLDH1_11\",\"DLDH2_11\",\"LeDH_11\",\"LHW_11\",\"LH5_11\",\"LH_11\"]\n",
    "results=find_0vbb_limit( \n",
    "    SMEFT_operators_0vbb_others,\n",
    "    scale=1e4, \n",
    "    basis=\"up\",\n",
    "    target_half_life=2.3e26,\n",
    "    isotope=\"136Xe\")"
   ]
  },
  {
   "cell_type": "markdown",
   "id": "afad5f97",
   "metadata": {},
   "source": [
    "### User could adjust NME, PSF and the LECs of $0\\nu\\beta\\beta$ experiments as following and we will use the default setting to scan over all 0vbb SMEFT operators up to dim-7 , which is just \n",
    "### method=\"IBM2\",  unknown_LECs=False,  PSF_scheme=\"A\"  "
   ]
  },
  {
   "cell_type": "code",
   "execution_count": 16,
   "id": "293507e5",
   "metadata": {},
   "outputs": [
    {
     "name": "stdout",
     "output_type": "stream",
     "text": [
      "Limit on WC LH5_11 at 1.000e+04 GeV is 5.606e-16 GeV^4-d, Corresponding half-life = 2.300e+26 yr\n",
      "\n",
      "=== Summary Table ===\n",
      "+--------+------------------+-------------------------------------+\n",
      "|        |   Scale_in (GeV) |   Limit on WCs ($\\text{GeV}^{4-d}$) |\n",
      "+========+==================+=====================================+\n",
      "| LH5_11 |            10000 |                           5.606e-16 |\n",
      "+--------+------------------+-------------------------------------+\n"
     ]
    }
   ],
   "source": [
    "SMEFT_operators_0vbb = [\"LH5_11\"]\n",
    "result=find_0vbb_limit( \n",
    "    operators=SMEFT_operators_0vbb,        # The operators to scan\n",
    "    scale=1e4,                             # The NP scale of the opertaors\n",
    "    basis=\"down\",                          # The quark-flavor basis\n",
    "    target_half_life=2.3e26,               # The upper limit of half-life\n",
    "    isotope=\"136Xe\",                       # The isotope of 0vbb experiment\n",
    "    method=\"IBM2\",                         # choice of NME in nudobe\n",
    "    unknown_LECs=False,                    # choice of LECs in nudobe\n",
    "    PSF_scheme=\"A\"                         # choice of PSF in nudobe\n",
    ")"
   ]
  }
 ],
 "metadata": {
  "kernelspec": {
   "display_name": "base",
   "language": "python",
   "name": "python3"
  },
  "language_info": {
   "codemirror_mode": {
    "name": "ipython",
    "version": 3
   },
   "file_extension": ".py",
   "mimetype": "text/x-python",
   "name": "python",
   "nbconvert_exporter": "python",
   "pygments_lexer": "ipython3",
   "version": "3.12.6"
  }
 },
 "nbformat": 4,
 "nbformat_minor": 5
}
